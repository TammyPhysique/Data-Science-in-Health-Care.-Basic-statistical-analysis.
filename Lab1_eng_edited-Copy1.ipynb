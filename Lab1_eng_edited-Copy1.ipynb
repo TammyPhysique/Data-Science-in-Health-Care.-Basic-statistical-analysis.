{
 "cells": [
  {
   "cell_type": "markdown",
   "metadata": {
    "id": "vxKzyR01ybYX"
   },
   "source": [
    "<center>\n",
    "    <img src=\"https://gitlab.com/ibm/skills-network/courses/placeholder101/-/raw/master/labs/module%201/images/IDSNlogo.png\" width=\"300\" alt=\"cognitiveclass.ai logo\"  />\n",
    "</center>\n"
   ]
  },
  {
   "cell_type": "markdown",
   "metadata": {
    "id": "9JEBPj6Db30b"
   },
   "source": [
    "## **Data Science in Health Care. Basic statistical analysis**\n"
   ]
  },
  {
   "cell_type": "markdown",
   "metadata": {
    "id": "mLJhUfyJzGWN"
   },
   "source": [
    "Estimated time needed: **45** minutes\n"
   ]
  },
  {
   "cell_type": "markdown",
   "metadata": {
    "id": "wRy7RVJUb30e"
   },
   "source": [
    "## Abstract\n"
   ]
  },
  {
   "cell_type": "markdown",
   "metadata": {
    "id": "XWgmwehSb30f"
   },
   "source": [
    "This lab is dedicated to downloading, pre-preparing and making statistical analysis of ELISA tests and collected information about IgG and IgM, influenza vaccination, tuberculosis vaccination and previous diseases, blood group respondents have.\n"
   ]
  },
  {
   "cell_type": "markdown",
   "metadata": {
    "id": "SRWNQbq-b30h"
   },
   "source": [
    "## Introduction\n"
   ]
  },
  {
   "cell_type": "markdown",
   "metadata": {
    "id": "ZXty2VZIb30i"
   },
   "source": [
    "The main problem to be solved in this laboratory is the download and statistical analysis of a DataSet.\n",
    "\n",
    "The basic difficulty of statistical analysis of real data is that it is prepared or presented in a form that is not convenient for machine methods of statistical analysis. Therefore, this lab shows methods of automatic pre-preparation of real data for such cases. The next problem is the ability to competently manipulate and transform big data in order to obtain a convenient statistical report both in tabular form and in the form of graphs.\n",
    "\n",
    "Therefore, the main goal that we are to achieve in this lab is learning how to download, pre-process and conduct basic statistical analysis of personal data obtained during the people survey using modern methods of DataMining.\n"
   ]
  },
  {
   "cell_type": "markdown",
   "metadata": {
    "id": "-hZYHTQqb30l"
   },
   "source": [
    "## Materials and methods\n"
   ]
  },
  {
   "cell_type": "markdown",
   "metadata": {
    "id": "YHCernXkb30n"
   },
   "source": [
    "In this lab, we will learn the methods of statistical analysis of data obtained via a people survey on the disease of COVID-19. The laboratory consists of three stages:\n",
    "\n",
    "*   Data download\n",
    "*   Data preparation\n",
    "*   Statistical analysis\n",
    "*   Data visualization\n",
    "\n",
    "The first stage will show you how to download spreadsheet data:\n",
    "\n",
    "*   indexing of key fields\n",
    "*   working with data types such as datatime\n",
    "*   writing a parser function to automatically create index fields\n",
    "\n",
    "At the next stage, it will be demonstrated how to pre-prepare data for analysis, in particular:\n",
    "\n",
    "*   elimination of missing data\n",
    "*   replacement and change of cell data\n",
    "*   change the data types of columns\n",
    "\n",
    "At the stage of statistical analysis, the methods of automation of statistical information calculation will be demonstrated, in particular:\n",
    "\n",
    "*   calculation of basic statistical indicators\n",
    "*   data sorting and grouping\n",
    "*   data transformation DataSet\n",
    "*   calculation of statistical indicators on the transformed data\n",
    "\n",
    "At the stage of visualization, the possibilities of visualization of the received statistical indicators will be shown.\n"
   ]
  },
  {
   "cell_type": "markdown",
   "metadata": {
    "id": "TvG7RdB0hTZf"
   },
   "source": [
    "The statistical data obtained during a survey by scientists of the Department of Artificial Intelligence Systems of the National University of Lviv Polytechnic will be used in this lab.\n",
    "The research was proved accordingly grant 305.2825-20 Stop COVID'19 of Central European Initiative (CEI)\n"
   ]
  },
  {
   "cell_type": "markdown",
   "metadata": {
    "id": "8-XgMaTkb30r"
   },
   "source": [
    "## Prerequisites\n",
    "\n",
    "*   Python,\n",
    "*   Pandas, [https://pandas.pydata.org](https://pandas.pydata.org/?utm_medium=Exinfluencer&utm_source=Exinfluencer&utm_content=000026UJ&utm_term=10006555&utm_id=NA-SkillsNetwork-Channel-SkillsNetworkQuickLabsdatascienceinhealthcarebasicstatisticalanalysis26481022-2021-01-01)\n",
    "*   SeaBorn, [https://seaborn.pydata.org](https://seaborn.pydata.org/?utm_medium=Exinfluencer&utm_source=Exinfluencer&utm_content=000026UJ&utm_term=10006555&utm_id=NA-SkillsNetwork-Channel-SkillsNetworkQuickLabsdatascienceinhealthcarebasicstatisticalanalysis26481022-2021-01-01)\n",
    "*   Statistics\n"
   ]
  },
  {
   "cell_type": "markdown",
   "metadata": {
    "id": "B2fwXISJb30s"
   },
   "source": [
    "## Objectives\n"
   ]
  },
  {
   "cell_type": "markdown",
   "metadata": {
    "id": "k7JM_3Ugb30t"
   },
   "source": [
    "After completing this lab, you will be able to:\n"
   ]
  },
  {
   "cell_type": "markdown",
   "metadata": {
    "id": "ep9angwBb30u"
   },
   "source": [
    "*   Download a DataSet from \\*.xlsx files\n",
    "*   Automatically change data in the DataSet\n",
    "*   Transform the table\n",
    "*   Visualize the data with pandas and seaborn\n",
    "*   Expect\n",
    "    *   Minimum and maximum value\n",
    "    *   Average\n",
    "    *   Quarters\n",
    "    *   Pivot tables\n"
   ]
  },
  {
   "cell_type": "markdown",
   "metadata": {
    "id": "4c4GR5cXEfQS"
   },
   "source": [
    "## Import Libraries/Define Auxiliary Functions\n"
   ]
  },
  {
   "cell_type": "markdown",
   "metadata": {
    "id": "FF-oG6h7hTZo"
   },
   "source": [
    "**Running outside Skills Network Labs.** This notebook was tested within Skills Network Labs. Running in another environment should work as well, but is not guaranteed and may require different setup routine.\n"
   ]
  },
  {
   "cell_type": "markdown",
   "metadata": {
    "id": "ehRj0Z6Xb30x"
   },
   "source": [
    "Libraries such as Pandas, MatplotLib and SeaBorn should be installed.\n"
   ]
  },
  {
   "cell_type": "code",
   "execution_count": null,
   "metadata": {
    "id": "DtNeLPQjhTZu"
   },
   "outputs": [],
   "source": [
    "conda install pandas==0.25.1"
   ]
  },
  {
   "cell_type": "code",
   "execution_count": null,
   "metadata": {
    "id": "mdGO3tdwhTZw"
   },
   "outputs": [],
   "source": [
    "conda install matplotlib"
   ]
  },
  {
   "cell_type": "code",
   "execution_count": null,
   "metadata": {
    "id": "nA-7HU1cb300"
   },
   "outputs": [],
   "source": [
    "conda install seaborn==0.9.0"
   ]
  },
  {
   "cell_type": "markdown",
   "metadata": {
    "id": "vQ7T0Cclb301"
   },
   "source": [
    "## Download data from a .xlsx file\n"
   ]
  },
  {
   "cell_type": "markdown",
   "metadata": {
    "id": "GI7u9rwFb301"
   },
   "source": [
    "Some libraries should be imported before you can begin.\n"
   ]
  },
  {
   "cell_type": "code",
   "execution_count": 1,
   "metadata": {
    "id": "jvPZyVlvb302"
   },
   "outputs": [],
   "source": [
    "import pandas as pd\n",
    "from datetime import datetime"
   ]
  },
  {
   "cell_type": "markdown",
   "metadata": {
    "id": "EhF98WOJehXi"
   },
   "source": [
    "The next step is to download the file data from the repository by **[read_excel()](https://pandas.pydata.org/docs/reference/api/pandas.read_excel.html?utm_medium=Exinfluencer&utm_source=Exinfluencer&utm_content=000026UJ&utm_term=10006555&utm_id=NA-SkillsNetwork-Channel-SkillsNetworkQuickLabsdatascienceinhealthcarebasicstatisticalanalysis26481022-2021-01-01)**\n"
   ]
  },
  {
   "cell_type": "code",
   "execution_count": null,
   "metadata": {
    "id": "zNwic0ECb303"
   },
   "outputs": [],
   "source": [
    "df = pd.read_excel('COVID_19.xlsx', 'Sheet1')"
   ]
  },
  {
   "cell_type": "code",
   "execution_count": null,
   "metadata": {
    "id": "gsfeTZk8b304"
   },
   "outputs": [],
   "source": []
  },
  {
   "cell_type": "markdown",
   "metadata": {
    "id": "-QpNMqkyM6AT"
   },
   "source": [
    "Now let's look at our DataSet.\n"
   ]
  },
  {
   "cell_type": "code",
   "execution_count": null,
   "metadata": {
    "id": "uHuh-hTpNHv3"
   },
   "outputs": [],
   "source": [
    "df"
   ]
  },
  {
   "cell_type": "markdown",
   "metadata": {
    "id": "X874aGVob305"
   },
   "source": [
    "We can see that the DataSet size is 3308 rows and 14 columns.\n"
   ]
  },
  {
   "cell_type": "markdown",
   "metadata": {
    "id": "hg1s7kxbb306"
   },
   "source": [
    "However, this DataSet needs some change.\n"
   ]
  },
  {
   "cell_type": "markdown",
   "metadata": {
    "id": "wTbZOyU6b306"
   },
   "source": [
    "First, you need to select the date and time from the first column as the index field. This will allow you to conveniently group the data depending on the time of its receipt.\n",
    "Since the date and time can come in different formats, it is convenient to write your own parser function which will transform any date and time format into the Python datetime format.\n",
    "In our case, we divide any date/time cells into two parts (date and time). Then we allocate only hours, minutes and seconds from time. Then we merge them again and transform them into datetime using **[strptime()](https://docs.python.org/3/library/datetime.html?utm_medium=Exinfluencer&utm_source=Exinfluencer&utm_content=000026UJ&utm_term=10006555&utm_id=NA-SkillsNetwork-Channel-SkillsNetworkQuickLabsdatascienceinhealthcarebasicstatisticalanalysis26481022-2021-01-01#datetime.date.strftime)**.\n",
    "It should also be set how the DataSet describes the missing data because it can negatively affect the statistics.\n",
    "Then we reload the data from the file.\n"
   ]
  },
  {
   "cell_type": "raw",
   "metadata": {
    "id": "mEpgxwXBb307"
   },
   "source": [
    "Please replace ##YOUR CODE GOES HERE## with your code."
   ]
  },
  {
   "cell_type": "code",
   "execution_count": null,
   "metadata": {
    "id": "CFwUOaH8b308"
   },
   "outputs": [],
   "source": [
    "def parse(x):\n",
    "    y = x.split()\n",
    "    t = y[1][:8]\n",
    "    z=y[0] + \" \" + t\n",
    "    d = datetime.strptime(z, ##YOUR CODE GOES HERE##)\n",
    "    return d"
   ]
  },
  {
   "cell_type": "markdown",
   "metadata": {
    "id": "OyEMbOtKb308"
   },
   "source": [
    "<details><summary>Click <b>here</b> for the solution</summary> \n",
    "'%Y-%m-%d %H:%M:%S'\n",
    "</details>\n"
   ]
  },
  {
   "cell_type": "code",
   "execution_count": null,
   "metadata": {
    "id": "WToyFpHBb309"
   },
   "outputs": [],
   "source": [
    "df = pd.read_excel('COVID_19.xlsx', 'Sheet1', na_values=\"NaN\", parse_dates = ['Date time'], index_col=0, date_parser=parse)"
   ]
  },
  {
   "cell_type": "code",
   "execution_count": null,
   "metadata": {
    "id": "WX5rk_3Rb30-"
   },
   "outputs": [],
   "source": [
    "df"
   ]
  },
  {
   "cell_type": "markdown",
   "metadata": {
    "id": "6fr7684wb30-"
   },
   "source": [
    "## Data preparation\n"
   ]
  },
  {
   "cell_type": "markdown",
   "metadata": {
    "id": "_ei7Wqewb30_"
   },
   "source": [
    "Some respondents did not indicate their gender. This will make further analysis of such data impossible.\n",
    "Remove rows that do not specify gender using **[dropna()](https://pandas.pydata.org/docs/reference/api/pandas.DataFrame.dropna.html?utm_medium=Exinfluencer&utm_source=Exinfluencer&utm_content=000026UJ&utm_term=10006555&utm_id=NA-SkillsNetwork-Channel-SkillsNetworkQuickLabsdatascienceinhealthcarebasicstatisticalanalysis26481022-2021-01-01)**:\n"
   ]
  },
  {
   "cell_type": "code",
   "execution_count": null,
   "metadata": {
    "id": "73hcF37ub31A"
   },
   "outputs": [],
   "source": [
    "df = df.dropna(subset=['Gender'])"
   ]
  },
  {
   "cell_type": "markdown",
   "metadata": {
    "id": "NVQlKSzZb31B"
   },
   "source": [
    "Some data might be stored in formats that Python misinterprets. Therefore, you can use the **[map()](https://pandas.pydata.org/docs/reference/api/pandas.Series.map.html?utm_medium=Exinfluencer&utm_source=Exinfluencer&utm_content=000026UJ&utm_term=10006555&utm_id=NA-SkillsNetwork-Channel-SkillsNetworkQuickLabsdatascienceinhealthcarebasicstatisticalanalysis26481022-2021-01-01&highlight=map#pandas.Series.map)** method to replace cell values. For example, you can change the Yes / No value to True / False as follows:\n"
   ]
  },
  {
   "cell_type": "code",
   "execution_count": null,
   "metadata": {
    "id": "jVvr-OCqb31C"
   },
   "outputs": [],
   "source": [
    "d = {'No' : False, 'Yes' : True}\n",
    "c = 'Do you vaccinated influenza?'\n",
    "df.loc[:, c] = df[c].map(d)"
   ]
  },
  {
   "cell_type": "code",
   "execution_count": null,
   "metadata": {
    "id": "x9f9mk_vb31C"
   },
   "outputs": [],
   "source": [
    "df"
   ]
  },
  {
   "cell_type": "markdown",
   "metadata": {
    "id": "Ii7s4DgMb31D"
   },
   "source": [
    "For further analysis it is necessary to study the general characteristics of the fields using **[info()](https://pandas.pydata.org/docs/reference/api/pandas.DataFrame.info.html?utm_medium=Exinfluencer&utm_source=Exinfluencer&utm_content=000026UJ&utm_term=10006555&utm_id=NA-SkillsNetwork-Channel-SkillsNetworkQuickLabsdatascienceinhealthcarebasicstatisticalanalysis26481022-2021-01-01&highlight=info#pandas.DataFrame.info)**.\n"
   ]
  },
  {
   "cell_type": "code",
   "execution_count": null,
   "metadata": {
    "id": "jCqWMbWTb31E"
   },
   "outputs": [],
   "source": [
    "df.info()"
   ]
  },
  {
   "cell_type": "markdown",
   "metadata": {
    "id": "5i2AKVA5b31E"
   },
   "source": [
    "We can see that all the data of all columns has non-null object type (except the last one). That is an indefinite type of data.\n",
    "Therefore, it is necessary to transform the data and change its type.\n"
   ]
  },
  {
   "cell_type": "markdown",
   "metadata": {
    "id": "gm4xSJXIb31F"
   },
   "source": [
    "As it can be seen from the table, the Age field should be categorized. For this we can use **[astype()](https://pandas.pydata.org/docs/reference/api/pandas.DataFrame.astype.html?utm_medium=Exinfluencer&utm_source=Exinfluencer&utm_content=000026UJ&utm_term=10006555&utm_id=NA-SkillsNetwork-Channel-SkillsNetworkQuickLabsdatascienceinhealthcarebasicstatisticalanalysis26481022-2021-01-01&highlight=astype#pandas.DataFrame.astype)**:\n"
   ]
  },
  {
   "cell_type": "code",
   "execution_count": null,
   "metadata": {
    "id": "bfCDIwwVb31F"
   },
   "outputs": [],
   "source": [
    "c = 'Age'\n",
    "df.loc[:, c] = df[c].astype('category')"
   ]
  },
  {
   "cell_type": "code",
   "execution_count": null,
   "metadata": {
    "id": "Kn5lJPXlb31G"
   },
   "outputs": [],
   "source": [
    "df['Age']"
   ]
  },
  {
   "cell_type": "markdown",
   "metadata": {
    "id": "B9uVszYnb31G"
   },
   "source": [
    "We can see that this column has now become categorical and has 5 different categories.\n"
   ]
  },
  {
   "cell_type": "markdown",
   "metadata": {
    "id": "wjIdfbqKb31G"
   },
   "source": [
    "All other fields except the last one contain Cyrillic values, so they need to be replaced and also be made categorical. To do this, use the **[lambda](https://pandas.pydata.org/docs/reference/api/pandas.Series.apply.html?utm_medium=Exinfluencer&utm_source=Exinfluencer&utm_content=000026UJ&utm_term=10006555&utm_id=NA-SkillsNetwork-Channel-SkillsNetworkQuickLabsdatascienceinhealthcarebasicstatisticalanalysis26481022-2021-01-01&highlight=apply#pandas.Series.apply)** function for each cell value in the corresponding columns. The main idea in this case is to find the position of the open parenthesis '( ' in the sentence and return the slice of text before it. If there are no parenthesis in the text, leave the text unchanged.\n"
   ]
  },
  {
   "cell_type": "code",
   "execution_count": null,
   "metadata": {
    "id": "fD7tLJadb31H"
   },
   "outputs": [],
   "source": [
    "for c in df.columns[1:-1]:\n",
    "    df.loc[:, c] = df[c].apply(lambda x : str(x) if str(x).find('(') == -1 else ##YOUR CODE GOES HERE## ).astype('category')"
   ]
  },
  {
   "cell_type": "markdown",
   "metadata": {
    "id": "eWoc2ICJb31I"
   },
   "source": [
    "<details><summary>Click <b>here</b> for the solution</summary> \n",
    "str(x)[:str(x).find('(')]\n",
    "</details>\n"
   ]
  },
  {
   "cell_type": "code",
   "execution_count": null,
   "metadata": {
    "id": "I8ZgCCzEb31I"
   },
   "outputs": [],
   "source": [
    "df.info()"
   ]
  },
  {
   "cell_type": "markdown",
   "metadata": {
    "id": "mraHjVrfb31J"
   },
   "source": [
    "The summary statistics can be viewed with the following command **[describe()](https://pandas.pydata.org/docs/reference/api/pandas.DataFrame.describe.html?utm_medium=Exinfluencer&utm_source=Exinfluencer&utm_content=000026UJ&utm_term=10006555&utm_id=NA-SkillsNetwork-Channel-SkillsNetworkQuickLabsdatascienceinhealthcarebasicstatisticalanalysis26481022-2021-01-01&highlight=describe#pandas.DataFrame.describe)**\n"
   ]
  },
  {
   "cell_type": "code",
   "execution_count": null,
   "metadata": {
    "id": "ISUtXmJpb31J"
   },
   "outputs": [],
   "source": [
    "df.describe()"
   ]
  },
  {
   "cell_type": "markdown",
   "metadata": {
    "id": "aM_9gaYQb31K"
   },
   "source": [
    "As you can see, the result highlights basic statistical information for all the columns except the categorical ones.\n",
    "The information includes total, average, standard deviation, minimum, maximum and the values of the main quarters.\n",
    "In order to display the summary information of category fields, we have to specify the data types we want to display the statistics for:\n"
   ]
  },
  {
   "cell_type": "code",
   "execution_count": null,
   "metadata": {
    "id": "uu-Ci_Qdb31K"
   },
   "outputs": [],
   "source": [
    "df.describe(include=['category'])"
   ]
  },
  {
   "cell_type": "markdown",
   "metadata": {
    "id": "-JSNDObCb31L"
   },
   "source": [
    "## Statistical analysis\n"
   ]
  },
  {
   "cell_type": "markdown",
   "metadata": {
    "id": "xcAsTEB9b31L"
   },
   "source": [
    "As you can see, statistical information consists of the number of unique values, the value of the most popular category and the number of its values.\n",
    "The detailed information for a specific column can be obtained as follows (**[value_counts()](https://pandas.pydata.org/docs/reference/api/pandas.Series.value_counts.html?utm_medium=Exinfluencer&utm_source=Exinfluencer&utm_content=000026UJ&utm_term=10006555&utm_id=NA-SkillsNetwork-Channel-SkillsNetworkQuickLabsdatascienceinhealthcarebasicstatisticalanalysis26481022-2021-01-01&highlight=value_counts#pandas.Series.value_counts)**):\n"
   ]
  },
  {
   "cell_type": "code",
   "execution_count": null,
   "metadata": {
    "id": "FkNgegHmb31M"
   },
   "outputs": [],
   "source": [
    "df['Age'].value_counts()"
   ]
  },
  {
   "cell_type": "markdown",
   "metadata": {
    "id": "OYQ_uWsjb31M"
   },
   "source": [
    "You can also get information in a normalized form.\n"
   ]
  },
  {
   "cell_type": "code",
   "execution_count": null,
   "metadata": {
    "id": "vEQNBrsHb31N"
   },
   "outputs": [],
   "source": [
    "df['Age'].value_counts(normalize=True)"
   ]
  },
  {
   "cell_type": "markdown",
   "metadata": {
    "id": "FkulQuvMb31N"
   },
   "source": [
    "### Sorting\n"
   ]
  },
  {
   "cell_type": "markdown",
   "metadata": {
    "id": "djcF96sTb31N"
   },
   "source": [
    "You can sort the data by one or a group of columns, you can specify the sort direction or create your own sort rules (for example, for category fields) using **[sort_values()](https://pandas.pydata.org/docs/reference/api/pandas.DataFrame.sort_values.html?utm_medium=Exinfluencer&utm_source=Exinfluencer&utm_content=000026UJ&utm_term=10006555&utm_id=NA-SkillsNetwork-Channel-SkillsNetworkQuickLabsdatascienceinhealthcarebasicstatisticalanalysis26481022-2021-01-01&highlight=sort_values#pandas.DataFrame.sort_values)**\n"
   ]
  },
  {
   "cell_type": "code",
   "execution_count": null,
   "metadata": {
    "id": "fctSAGkUb31O"
   },
   "outputs": [],
   "source": [
    "df.sort_values(by='Age', \n",
    "        ascending=True)"
   ]
  },
  {
   "cell_type": "markdown",
   "metadata": {
    "id": "lNgy6oveb31P"
   },
   "source": [
    "You should specify the list of fields and the order direction in the **'by'** and **'ascending'** parameters. So, to sort by the fields 'Age' in ascending order and 'Gender' in descending order, you need:\n"
   ]
  },
  {
   "cell_type": "code",
   "execution_count": null,
   "metadata": {
    "id": "XaZhdU2Kb31P"
   },
   "outputs": [],
   "source": [
    "df.sort_values(##YOUR CODE GOES HERE##).head()"
   ]
  },
  {
   "cell_type": "markdown",
   "metadata": {
    "id": "FeN81Lm6b31Q"
   },
   "source": [
    "<details><summary>Click <b>here</b> for the solution</summary> \n",
    "by=['Age', 'Gender'], ascending=[True, False]\n",
    "</details>\n"
   ]
  },
  {
   "cell_type": "markdown",
   "metadata": {
    "id": "gThMhe_Sb31Q"
   },
   "source": [
    "### Data transformation\n"
   ]
  },
  {
   "cell_type": "markdown",
   "metadata": {
    "id": "NTvZ6fmob31R"
   },
   "source": [
    "To obtain information on a specific category field, you can use:\n"
   ]
  },
  {
   "cell_type": "code",
   "execution_count": null,
   "metadata": {
    "id": "rmgqIs6Bb31R"
   },
   "outputs": [],
   "source": [
    "df['Gender'].value_counts()"
   ]
  },
  {
   "cell_type": "markdown",
   "metadata": {
    "id": "mlAfunjJb31S"
   },
   "source": [
    "The list of unique values can be obtained as follows:\n"
   ]
  },
  {
   "cell_type": "code",
   "execution_count": null,
   "metadata": {
    "id": "6rbDpTthb31S"
   },
   "outputs": [],
   "source": [
    "df['Gender'].value_counts().keys()"
   ]
  },
  {
   "cell_type": "markdown",
   "metadata": {
    "id": "GHEi6PoIb31T"
   },
   "source": [
    "The average value of temperature for women only can be obtained as (**[mean()](https://pandas.pydata.org/docs/getting_started/intro_tutorials/06\\_calculate_statistics.html?utm_medium=Exinfluencer&utm_source=Exinfluencer&utm_content=000026UJ&utm_term=10006555&utm_id=NA-SkillsNetwork-Channel-SkillsNetworkQuickLabsdatascienceinhealthcarebasicstatisticalanalysis26481022-2021-01-01&highlight=statistical)**):\n"
   ]
  },
  {
   "cell_type": "code",
   "execution_count": null,
   "metadata": {
    "id": "IE7eNwAxb31T"
   },
   "outputs": [],
   "source": [
    "df[df['Gender'] == 'Female ']['Maximum body temperature'].mean()"
   ]
  },
  {
   "cell_type": "markdown",
   "metadata": {
    "id": "pvXXPltTb31U"
   },
   "source": [
    "The maximum temperature of men who smoke and have COVID-19 is:\n"
   ]
  },
  {
   "cell_type": "code",
   "execution_count": null,
   "metadata": {
    "id": "69LuPJ4kb31U"
   },
   "outputs": [],
   "source": [
    "df[##YOUR CODE GOES HERE##]['Maximum body temperature'].max()"
   ]
  },
  {
   "cell_type": "markdown",
   "metadata": {
    "id": "WWpFa3P8b31V"
   },
   "source": [
    "<details><summary>Click <b>here</b> for the solution</summary> \n",
    "(df['Gender'] == 'Male ') & \n",
    "   (df['Do you smoke?'] == 'Yes') & \n",
    "   (df['Have you had Covid`19 this year?'] == 'Yes')\n",
    "</details>\n"
   ]
  },
  {
   "cell_type": "markdown",
   "metadata": {
    "id": "TLkxvR61b31V"
   },
   "source": [
    "Otherwise, you can get complete statistics by class separately by grouping the data.\n"
   ]
  },
  {
   "cell_type": "code",
   "execution_count": null,
   "metadata": {
    "id": "EYRSPzrib31X"
   },
   "outputs": [],
   "source": [
    "df.groupby(['Gender'])['Maximum body temperature'].describe()"
   ]
  },
  {
   "cell_type": "markdown",
   "metadata": {
    "id": "3qmugozMb31Y"
   },
   "source": [
    "### Pivot tables\n"
   ]
  },
  {
   "cell_type": "markdown",
   "metadata": {
    "id": "c3uQOCcUb31Y"
   },
   "source": [
    "Let's suppose that we need to count how many men and women are there of each age group. To do this, use the **[crosstab()](https://pandas.pydata.org/docs/reference/api/pandas.crosstab.html?utm_medium=Exinfluencer&utm_source=Exinfluencer&utm_content=000026UJ&utm_term=10006555&utm_id=NA-SkillsNetwork-Channel-SkillsNetworkQuickLabsdatascienceinhealthcarebasicstatisticalanalysis26481022-2021-01-01&highlight=crosstab#pandas.crosstab)** function:\n"
   ]
  },
  {
   "cell_type": "code",
   "execution_count": null,
   "metadata": {
    "id": "8PHcylAVb31Z"
   },
   "outputs": [],
   "source": [
    "pd.crosstab(df['Age'], df['Gender'])"
   ]
  },
  {
   "cell_type": "markdown",
   "metadata": {
    "id": "fr6Jx3ptb31a"
   },
   "source": [
    "The table shows that most of the interviewed people are aged from 23 to 65.\n"
   ]
  },
  {
   "cell_type": "markdown",
   "metadata": {
    "id": "mHRZfpEDb31a"
   },
   "source": [
    "To obtain summary information, for example, on body temperature, for men and women of each age group, it is necessary to use a pivot table **[pivot_table()](https://pandas.pydata.org/docs/reference/api/pandas.DataFrame.pivot_table.html?utm_medium=Exinfluencer&utm_source=Exinfluencer&utm_content=000026UJ&utm_term=10006555&utm_id=NA-SkillsNetwork-Channel-SkillsNetworkQuickLabsdatascienceinhealthcarebasicstatisticalanalysis26481022-2021-01-01&highlight=pivot_table#pandas.DataFrame.pivot_table)**\n"
   ]
  },
  {
   "cell_type": "code",
   "execution_count": null,
   "metadata": {
    "id": "tLZ89OVVb31b"
   },
   "outputs": [],
   "source": [
    "pd.pivot_table(df, values= 'Maximum body temperature', index= ['Age'], columns=['Gender'], aggfunc='mean', margins=True)"
   ]
  },
  {
   "cell_type": "markdown",
   "metadata": {
    "id": "OUwlfqWdb31c"
   },
   "source": [
    "This table shows the average temperature for women and men in terms of age groups.\n"
   ]
  },
  {
   "cell_type": "markdown",
   "metadata": {
    "id": "M68HZqvWb31d"
   },
   "source": [
    "## Visualize Data\n"
   ]
  },
  {
   "cell_type": "markdown",
   "metadata": {
    "id": "cRK79L5Zb31d"
   },
   "source": [
    "Now let's visualize our data.\n",
    "We will use SeaBorn library.\n",
    "\n",
    "**Library documentation**\n",
    "\n",
    "[https://seaborn.pydata.org](https://seaborn.pydata.org/?utm_medium=Exinfluencer&utm_source=Exinfluencer&utm_content=000026UJ&utm_term=10006555&utm_id=NA-SkillsNetwork-Channel-SkillsNetworkQuickLabsdatascienceinhealthcarebasicstatisticalanalysis26481022-2021-01-01)\n"
   ]
  },
  {
   "cell_type": "markdown",
   "metadata": {
    "id": "Gp7VHY52b31d"
   },
   "source": [
    "Import the library.\n"
   ]
  },
  {
   "cell_type": "code",
   "execution_count": null,
   "metadata": {
    "id": "4NvZHi09b31e"
   },
   "outputs": [],
   "source": [
    "import matplotlib.pyplot as plt\n",
    "import seaborn as sns"
   ]
  },
  {
   "cell_type": "markdown",
   "metadata": {
    "id": "Rj8zbWh-b31e"
   },
   "source": [
    "Visualize the number of surveyed men and women in terms of age groups using **[countplot()](https://seaborn.pydata.org/generated/seaborn.countplot.html?utm_medium=Exinfluencer&utm_source=Exinfluencer&utm_content=000026UJ&utm_term=10006555&utm_id=NA-SkillsNetwork-Channel-SkillsNetworkQuickLabsdatascienceinhealthcarebasicstatisticalanalysis26481022-2021-01-01)**:\n"
   ]
  },
  {
   "cell_type": "code",
   "execution_count": null,
   "metadata": {
    "id": "YEt8rCvzb31f"
   },
   "outputs": [],
   "source": [
    "sns.countplot(x='Age', hue='Gender', data=df)"
   ]
  },
  {
   "cell_type": "markdown",
   "metadata": {
    "id": "FkCwuan7b31f"
   },
   "source": [
    "Let's analyze the dynamics of surveys during the whole time of research. To do this, you should group the data by day using the **[resample()](https://pandas.pydata.org/docs/reference/api/pandas.DataFrame.resample.html?utm_medium=Exinfluencer&utm_source=Exinfluencer&utm_content=000026UJ&utm_term=10006555&utm_id=NA-SkillsNetwork-Channel-SkillsNetworkQuickLabsdatascienceinhealthcarebasicstatisticalanalysis26481022-2021-01-01&highlight=resample#pandas.DataFrame.resample)** and **[plot()](https://pandas.pydata.org/docs/reference/api/pandas.DataFrame.plot.html?utm_medium=Exinfluencer&utm_source=Exinfluencer&utm_content=000026UJ&utm_term=10006555&utm_id=NA-SkillsNetwork-Channel-SkillsNetworkQuickLabsdatascienceinhealthcarebasicstatisticalanalysis26481022-2021-01-01&highlight=plot#pandas.DataFrame.plot)** methods.\n"
   ]
  },
  {
   "cell_type": "code",
   "execution_count": null,
   "metadata": {
    "id": "vkofSEIgb31g"
   },
   "outputs": [],
   "source": [
    "df.resample(str('1D')).sum().plot()"
   ]
  },
  {
   "cell_type": "markdown",
   "metadata": {
    "id": "clhnzf1kzwQ_"
   },
   "source": [
    "Some of the surveyed patients were sure they had COVID-19 and others weren't. Let's plot the temperature distribution (**[distplot()](https://seaborn.pydata.org/generated/seaborn.distplot.html?utm_medium=Exinfluencer&utm_source=Exinfluencer&utm_content=000026UJ&utm_term=10006555&utm_id=NA-SkillsNetwork-Channel-SkillsNetworkQuickLabsdatascienceinhealthcarebasicstatisticalanalysis26481022-2021-01-01)**) of both groups on one figure that contains two graphs (**[subplots()](https://matplotlib.org/stable/api/\\_as_gen/matplotlib.pyplot.subplots.html?utm_medium=Exinfluencer&utm_source=Exinfluencer&utm_content=000026UJ&utm_term=10006555&utm_id=NA-SkillsNetwork-Channel-SkillsNetworkQuickLabsdatascienceinhealthcarebasicstatisticalanalysis26481022-2021-01-01)**)\n"
   ]
  },
  {
   "cell_type": "code",
   "execution_count": null,
   "metadata": {
    "id": "_iocmsECb31h"
   },
   "outputs": [],
   "source": [
    "_, axes = plt.subplots(1, 2, sharey=True, figsize=(16,6))\n",
    "\n",
    "df_t = df[df['Have you had Covid`19 this year?'] == 'Yes'].dropna(subset=['Maximum body temperature'])\n",
    "sns.distplot(df_t['Maximum body temperature'], ax=axes[0])\n",
    "df_t = df[df['Have you had Covid`19 this year?'] == 'Maybe'].dropna(subset=['Maximum body temperature'])\n",
    "sns.distplot(df_t['Maximum body temperature'], ax=axes[1])"
   ]
  },
  {
   "cell_type": "markdown",
   "metadata": {
    "id": "OQEax0ofb31h"
   },
   "source": [
    "We can conclude from the graphs that in case of COVID-19 the temperature can vary widely. People with temperature between 37-38 were not tested and were not sure of their diagnosis.\n"
   ]
  },
  {
   "cell_type": "markdown",
   "metadata": {
    "id": "OSDKkKwsb31i"
   },
   "source": [
    "Let's build temperature dependence on age group (**[boxplot()](https://seaborn.pydata.org/generated/seaborn.boxplot.html?utm_medium=Exinfluencer&utm_source=Exinfluencer&utm_content=000026UJ&utm_term=10006555&utm_id=NA-SkillsNetwork-Channel-SkillsNetworkQuickLabsdatascienceinhealthcarebasicstatisticalanalysis26481022-2021-01-01&highlight=boxplot#seaborn.boxplot)** or **[violinplot()](https://seaborn.pydata.org/generated/seaborn.violinplot.html?utm_medium=Exinfluencer&utm_source=Exinfluencer&utm_content=000026UJ&utm_term=10006555&utm_id=NA-SkillsNetwork-Channel-SkillsNetworkQuickLabsdatascienceinhealthcarebasicstatisticalanalysis26481022-2021-01-01)**). The graph shows the data quarters. The midline of the rectangle is the median. The whiskers show the data scatter.\n"
   ]
  },
  {
   "cell_type": "code",
   "execution_count": null,
   "metadata": {
    "id": "MeXi6uH2b31i"
   },
   "outputs": [],
   "source": [
    "cols = ['Maximum body temperature', 'Maximum body temperature']\n",
    "_, axes = plt.subplots(1, 2, sharey=True, figsize=(16,6))\n",
    "sns.boxplot(y = df[\"Age\"], x=df[\"Maximum body temperature\"], ax=axes[0])\n",
    "sns.violinplot(y = df[\"Age\"], x=df[\"Maximum body temperature\"],ax=axes[1] )"
   ]
  },
  {
   "cell_type": "markdown",
   "metadata": {
    "id": "2drVv2Njb31j"
   },
   "source": [
    "## Conclusions\n"
   ]
  },
  {
   "cell_type": "markdown",
   "metadata": {
    "id": "walUQ3bXb31k"
   },
   "source": [
    "As practice shows, the data obtained in real field experiments is not suitable for direct statistical processing. Therefore, in this lab we learned the basic methods of downloading and preliminary data preparation.\n",
    "Unlike the well-known classical approaches to statistical data analysis, Python contains many powerful libraries that allow you to manipulate data easily and quickly. Therefore, we have learned the basic methods of automating a library such as Pandas for statistical data analysis. We also learned the basic methods of visualizing the obtained data with the SeaBorn library which also contains effective means of visual data analysis.\n"
   ]
  },
  {
   "cell_type": "markdown",
   "metadata": {
    "id": "DL2DOYrVb31l"
   },
   "source": [
    "## Authors\n"
   ]
  },
  {
   "cell_type": "markdown",
   "metadata": {
    "id": "cywGgchub31l"
   },
   "source": [
    "[Yaroslav Vyklyuk, prof., PhD., DrSc](http://vyklyuk.bukuniver.edu.ua/en/?utm_medium=Exinfluencer&utm_source=Exinfluencer&utm_content=000026UJ&utm_term=10006555&utm_id=NA-SkillsNetwork-Channel-SkillsNetworkQuickLabsdatascienceinhealthcarebasicstatisticalanalysis26481022-2021-01-01)\n"
   ]
  },
  {
   "cell_type": "markdown",
   "metadata": {
    "id": "AYrgf5xIb31m"
   },
   "source": [
    "Copyright © 2020 IBM Corporation. This notebook and its source code are released under the terms of the [MIT License](https://cognitiveclass.ai/mit-license/?utm_medium=Exinfluencer&utm_source=Exinfluencer&utm_content=000026UJ&utm_term=10006555&utm_id=NA-SkillsNetwork-Channel-SkillsNetworkQuickLabsdatascienceinhealthcarebasicstatisticalanalysis26481022-2021-01-01).\n"
   ]
  }
 ],
 "metadata": {
  "colab": {
   "collapsed_sections": [],
   "name": "Lab1_eng_edited_12-08.ipynb",
   "provenance": [],
   "toc_visible": true
  },
  "kernelspec": {
   "display_name": "Python",
   "language": "python",
   "name": "conda-env-python-py"
  },
  "language_info": {
   "codemirror_mode": {
    "name": "ipython",
    "version": 3
   },
   "file_extension": ".py",
   "mimetype": "text/x-python",
   "name": "python",
   "nbconvert_exporter": "python",
   "pygments_lexer": "ipython3",
   "version": "3.7.12"
  }
 },
 "nbformat": 4,
 "nbformat_minor": 4
}
